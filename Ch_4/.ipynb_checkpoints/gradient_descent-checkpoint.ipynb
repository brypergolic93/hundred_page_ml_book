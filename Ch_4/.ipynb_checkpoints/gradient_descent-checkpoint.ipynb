{
 "cells": [
  {
   "cell_type": "markdown",
   "metadata": {},
   "source": [
    "# Gradient Descent\n",
    "---\n",
    "This project is an example from Chapter 4 of the Hundred Page Machine Learning Book. It looks at linear regression of a cluster of sales data.\n"
   ]
  },
  {
   "cell_type": "markdown",
   "metadata": {},
   "source": [
    "---\n",
    "The first cell reads the .csv file and creates a list out of each column of data, excluding the header."
   ]
  },
  {
   "cell_type": "code",
   "execution_count": 1,
   "metadata": {},
   "outputs": [],
   "source": [
    "import matplotlib as plt\n",
    "import matplotlib\n",
    "import numpy as np\n",
    "from csv import reader\n",
    "\n",
    "# Open csv file\n",
    "marketing_file_open = open('advertising.csv')\n",
    "marketing_data_read = reader(marketing_file_open)\n",
    "marketing_data_list = list(marketing_data_read)\n",
    "marketing_data = np.array(marketing_data_list)\n",
    "\n",
    "# segment each column into an array and convert the data from string to float\n",
    "sales = marketing_data[1:-1,3].astype(float)\n",
    "tv_ad = marketing_data[1:-1,0].astype(float)\n",
    "radio_ad = marketing_data[1:-1,1].astype(float)\n",
    "newspaper_ad = marketing_data[1:-1,2].astype(float)"
   ]
  },
  {
   "cell_type": "markdown",
   "metadata": {},
   "source": []
  }
 ],
 "metadata": {
  "kernelspec": {
   "display_name": "Python 3",
   "language": "python",
   "name": "python3"
  },
  "language_info": {
   "codemirror_mode": {
    "name": "ipython",
    "version": 3
   },
   "file_extension": ".py",
   "mimetype": "text/x-python",
   "name": "python",
   "nbconvert_exporter": "python",
   "pygments_lexer": "ipython3",
   "version": "3.7.6"
  }
 },
 "nbformat": 4,
 "nbformat_minor": 4
}
