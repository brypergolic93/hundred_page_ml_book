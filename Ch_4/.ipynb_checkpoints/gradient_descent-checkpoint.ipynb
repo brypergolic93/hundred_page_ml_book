{
 "cells": [
  {
   "cell_type": "markdown",
   "metadata": {},
   "source": [
    "# Gradient Descent\n",
    "---\n",
    "This project is an example from Chapter 4 of the Hundred Page Machine Learning Book. It looks at linear regression of a cluster of sales data. I found another data set on Kaggle since I could not find the author had used for his book.\n"
   ]
  },
  {
   "cell_type": "markdown",
   "metadata": {},
   "source": [
    "---\n",
    "The first cell reads the .csv file and creates a list out of each column of data, excluding the header. The output is the data we want to analyze, TV ad spending vs. sales."
   ]
  },
  {
   "cell_type": "code",
   "execution_count": 22,
   "metadata": {},
   "outputs": [
    {
     "data": {
      "image/png": "[encoded data removed]",
      "text/plain": [
       "<Figure size 432x288 with 1 Axes>"
      ]
     },
     "metadata": {
      "needs_background": "light"
     },
     "output_type": "display_data"
    }
   ],
   "source": [
    "import matplotlib.pyplot as plt\n",
    "import matplotlib\n",
    "import numpy as np\n",
    "from csv import reader\n",
    "import sklearn\n",
    "\n",
    "\n",
    "# Open csv file\n",
    "marketing_file_open = open('advertising.csv')\n",
    "marketing_data_read = reader(marketing_file_open)\n",
    "marketing_data_list = list(marketing_data_read)\n",
    "marketing_data = np.array(marketing_data_list)\n",
    "\n",
    "# segment each column into an array and convert the data from string to float\n",
    "sales = marketing_data[1:-1,3].astype(float)\n",
    "tv_ad = marketing_data[1:-1,0].astype(float)\n",
    "radio_ad = marketing_data[1:-1,1].astype(float)\n",
    "newspaper_ad = marketing_data[1:-1,2].astype(float)\n",
    "\n",
    "fig = plt.figure()\n",
    "ax = plt.axes()\n",
    "ax.plot(tv_ad,sales, 'k.')\n",
    "ax.set_xlabel('TV Marketing Costs ($M)')\n",
    "ax.set_ylabel('Sales (Units)')\n",
    "plt.show()"
   ]
  },
  {
   "cell_type": "markdown",
   "metadata": {},
   "source": [
    "## Equations of Gradient Descent\n",
    "\n",
    "$$f(x) = wx+b$$\n",
    "\n",
    "We want to find the values of $w$ and $b$ that minimize the mean squared error:\n",
    "\n",
    "$$\n",
    "L = \\frac{1}{N} \\sum_{i=1}^N [y_i - (wx_i + b)]^2\n",
    "$$\n",
    "\n",
    "In the above equation, we are calculating the $y$ value predicted for a given value of $w$ and $b$ (provided by the user), then subtracting that from the actual value of $y_i$ at that $x_i$, then squaring it. We then sum up all of those values then divide by the number of data points. That is the mean squared error.\n",
    "\n",
    "To mimimize the mean squared error, we will we will take the partial derivative with respect to $w$ and $b$, for which we will need the chain rule:\n",
    "\n",
    "$$ \\frac{d}{dx} \\left[ f (g (x)) \\right] = f'(g(x)) \\cdot g'(x) $$\n",
    "\n",
    "and in our case, $ g(x) = y_i - (wx_i + b)$ and $f(x) = [g(x)]^2$. Let's start by finding the partial derivate with respect to $w$, $\\partial L/\\partial w$:\n",
    "\n",
    "$$ g'(w) = -x_i $$\n",
    "$$ f'(w) = 2[y_i - (wx_i + b)] $$\n",
    "$$ ⇒ \\frac{\\partial L}{\\partial w} = \\frac{1}{N} \\sum_{i=1}^{N} -2x_i [y_i - (wx_i+b)] $$\n",
    "\n",
    "Then find the partial derivate with respect to $b$:\n",
    "\n",
    "$$ g'(w) = -1 $$\n",
    "$$ f'(w) = 2[y_i - (wx_i + b)] $$\n",
    "$$ ⇒ \\frac{\\partial L}{\\partial b} = \\frac{1}{N} \\sum_{i=1}^{N} -2 [y_i - (wx_i+b)] $$\n",
    "\n",
    "So what do these equations actually mean? Like the derivative, the partial derivative looks at the rate of change of some value, or the slope of a line at any given point if you are looking a plot. For a partial derivative, we are just looking at the change of one parameter and ignoring the others. So with the above equations we can look at the change of $w$ and $b$ independently of one another.\n",
    "\n",
    "By look at the sign of a derivative, one can tell in which \"direction\" (along an axis) to move in order to find a minimum value. A simple example is with a parabola (image taken from mathcracker.com). If we take the derivative at point $a$, it would be negative. This means we should move to the \"right\" (along the positive x-axis) to get closer to the minimum. At point $b$, we would calculate a positive flow and know we should move in the negative direction.\n",
    "\n",
    "<img src=\"parabola.png\" width=400/>\n",
    "\n",
    "So, now we know which direction we should move in to find the minimum, but how do we know how much we move? The magnitude of the slope above tells us something, but we also require some fudgery by the data scientist in the form of the $\\alpha$, known as the learning rate. \n",
    "\n",
    "$$ w = w - \\alpha \\frac{\\partial L}{\\partial w} $$\n",
    "$$ b = b - \\alpha \\frac{\\partial L}{\\partial b} $$\n",
    "\n",
    "In the equations above, we start off with some value of $w$ and $b$, calculate the slope of the mean squared error function for that value and multiply it by the alpha we used. If our guess was way off a value of $w$ or $b$ that would fit the line $f(x) = wx+b$ to the data, the correction will be large. The learning rate allows us to \"tune\" this correction to have finer or larger corrections with each step through all the data. Each time we go through all the data with this process is called an \"epoch\".\n",
    "\n",
    "Let's finally get back to the code and update our values of $w$ and $b$ in reality! Below,  we loop through the whole data set and calculate the total mean squared error with \"spendings\" representing $x_i$ and sales being $y_i$. We pass some initial guess of $w$ and $b$, along with the learning rate (our \"tuner\"), then we update $w$ and $b$ after dividing the mean squared error by the total number of samples $N$.\n"
   ]
  },
  {
   "cell_type": "code",
   "execution_count": 23,
   "metadata": {},
   "outputs": [],
   "source": [
    "# Update parameters w and b during one epoch. x_i = spendings, y_i = sales\n",
    "def update_w_and_b(spendings, sales, w, b, alpha):\n",
    "    \n",
    "    dl_dw = 0.0\n",
    "    dl_db = 0.0\n",
    "    \n",
    "    N = len(spendings)\n",
    "    \n",
    "    # Partial derivatives wrt to w and b:\n",
    "    for i in range(N):\n",
    "        dl_dw += -2*spendings[i]*(sales[i] - (w*spendings[i] + b))\n",
    "        dl_db += -2*(sales[i] - (w*spendings[i] + b))\n",
    "        \n",
    "    # Update w and b. Divide by N here as well\n",
    "    w = w - (1/float(N))*dl_dw*alpha\n",
    "    b = b - (1/float(N))*dl_db*alpha\n",
    "\n",
    "    return w, b"
   ]
  },
  {
   "cell_type": "markdown",
   "metadata": {},
   "source": [
    "So that's basically all the math in the whole fucking thing! But we also want pass our parameters to the function, and decide how many passes we should do in the form of epochs."
   ]
  },
  {
   "cell_type": "code",
   "execution_count": 24,
   "metadata": {},
   "outputs": [],
   "source": [
    "# Loop over multiple epochs\n",
    "def train(spendings, sales, w, b, alpha, epochs):\n",
    "    \n",
    "    for e in range(epochs):\n",
    "        w, b = update_w_and_b(spendings, sales, w, b, alpha)\n",
    "        \n",
    "        # log the progress every \"x\" epochs\n",
    "        if e % 1 == 0:\n",
    "            print(\"Epoch: \", e, \"Loss: \", avg_loss(spendings, sales, w, b))\n",
    "        \n",
    "    return w, b"
   ]
  },
  {
   "cell_type": "markdown",
   "metadata": {},
   "source": [
    "The average loss above is calculated by feeding the our new values of $w$ and $b$ into the mean squared error function, recalling\n",
    "\n",
    "$$\n",
    "L = \\frac{1}{N} \\sum_{i=1}^N [y_i - (wx_i + b)]^2\n",
    "$$"
   ]
  },
  {
   "cell_type": "code",
   "execution_count": 25,
   "metadata": {},
   "outputs": [],
   "source": [
    "# Average loss function that computes mean squared     \n",
    "def avg_loss(spendings, sales, w, b):\n",
    "    \n",
    "    N = len(spendings)\n",
    "    total_error = 0.0\n",
    "    \n",
    "    for i in range(N):\n",
    "        # Mean squared error equation\n",
    "        total_error += (sales[i] - (w*spendings[i] + b))**2\n",
    "        \n",
    "    return total_error/float(N)\n"
   ]
  },
  {
   "cell_type": "markdown",
   "metadata": {},
   "source": [
    "So let's feed this baby some data! Below we'll print the epoch number and the \"loss\" also known as the mean squared error during each pass. It's hard to quantify mean squared error here without units, but basically it is the average distance between each actual data point and the data point that would be predicted there by our values of $w$ and $b$.\n",
    "\n",
    "Below, we also plot the original figure and the line $f(x) = wx+b$ with our new values."
   ]
  },
  {
   "cell_type": "code",
   "execution_count": 26,
   "metadata": {},
   "outputs": [
    {
     "name": "stdout",
     "output_type": "stream",
     "text": [
      "Epoch:  0 Loss:  60.37785659368601\n",
      "Epoch:  1 Loss:  25.2589258768988\n",
      "Epoch:  2 Loss:  18.963814183760626\n",
      "Epoch:  3 Loss:  17.83532294659281\n",
      "Epoch:  4 Loss:  17.632939625207793\n",
      "Epoch:  5 Loss:  17.59655957103337\n",
      "Epoch:  6 Loss:  17.58993532074862\n",
      "Epoch:  7 Loss:  17.58864474866828\n",
      "Epoch:  8 Loss:  17.588310230369444\n",
      "Epoch:  9 Loss:  17.58814708413218\n"
     ]
    },
    {
     "data": {
      "image/png": "[encoded data removed]",
      "text/plain": [
       "<Figure size 432x288 with 1 Axes>"
      ]
     },
     "metadata": {
      "needs_background": "light"
     },
     "output_type": "display_data"
    }
   ],
   "source": [
    "w_init = 0.0\n",
    "b_init = 0\n",
    "alpha_init = 0.00001\n",
    "epochs_init = 10\n",
    "\n",
    "w, b = train(tv_ad, sales, w_init, b_init, alpha_init, epochs_init)\n",
    "\n",
    "fig = plt.figure()\n",
    "ax = plt.axes()\n",
    "ax.plot(tv_ad,sales, 'k.')\n",
    "ax.set_xlabel('TV Marketing Costs ($M)')\n",
    "ax.set_ylabel('Sales (Units)')\n",
    "plt.plot(tv_ad, w*tv_ad + b, '-')\n",
    "plt.show()"
   ]
  },
  {
   "cell_type": "markdown",
   "metadata": {},
   "source": [
    "We can play around with different values of initial $w$ and $b$, the learning rate $\\alpha$, and the number of data passes. It kind of looks like the y-intercept is not converging to a reasonable value, so let's just change the initial $b$ to 7."
   ]
  },
  {
   "cell_type": "code",
   "execution_count": 27,
   "metadata": {},
   "outputs": [
    {
     "name": "stdout",
     "output_type": "stream",
     "text": [
      "Epoch:  0 Loss:  21.091674109060843\n",
      "Epoch:  1 Loss:  8.0760978447025\n",
      "Epoch:  2 Loss:  5.743077971026211\n",
      "Epoch:  3 Loss:  5.324888131276196\n",
      "Epoch:  4 Loss:  5.2499283129491845\n",
      "Epoch:  5 Loss:  5.236491891225943\n",
      "Epoch:  6 Loss:  5.234083433530964\n",
      "Epoch:  7 Loss:  5.233651719600518\n",
      "Epoch:  8 Loss:  5.233574333622253\n",
      "Epoch:  9 Loss:  5.233560460325789\n"
     ]
    },
    {
     "data": {
      "image/png": "[encoded data removed]",
      "text/plain": [
       "<Figure size 432x288 with 1 Axes>"
      ]
     },
     "metadata": {
      "needs_background": "light"
     },
     "output_type": "display_data"
    }
   ],
   "source": [
    "w_init = 0.0\n",
    "b_init = 7.0\n",
    "alpha_init = 0.00001\n",
    "epochs_init = 10\n",
    "\n",
    "w, b = train(tv_ad, sales, w_init, b_init, alpha_init, epochs_init)\n",
    "\n",
    "fig = plt.figure()\n",
    "ax = plt.axes()\n",
    "ax.plot(tv_ad,sales, 'k.')\n",
    "ax.set_xlabel('TV Marketing Costs ($M)')\n",
    "ax.set_ylabel('Sales (Units)')\n",
    "plt.plot(tv_ad, w*tv_ad + b, '-')\n",
    "plt.show()"
   ]
  },
  {
   "cell_type": "markdown",
   "metadata": {},
   "source": [
    "Fucking lit! It actually looks like we converged to the same value after about 4 passes so we could have used fewer epochs. We can also create the predictive function, which gives us the guessed value of sales given some amount of money spent on TV marketing:"
   ]
  },
  {
   "cell_type": "code",
   "execution_count": 28,
   "metadata": {},
   "outputs": [
    {
     "name": "stdout",
     "output_type": "stream",
     "text": [
      "\n",
      "Predicted sales spending $175.00 million in TV advertising: $16.69 million\n"
     ]
    }
   ],
   "source": [
    "# Create predictive function\n",
    "def predict(x, w, b):\n",
    "    \n",
    "    return w*x + b\n",
    "\n",
    "x_new = 175.0\n",
    "y_new = predict(x_new, w, b)\n",
    "print(\"\\nPredicted sales spending $%3.2f million in TV advertising: $%2.2f million\" % (x_new,y_new))"
   ]
  },
  {
   "cell_type": "markdown",
   "metadata": {},
   "source": [
    "I guess it's an awkward time to tell you, but you basically just wasted hours of your life that you will never get back. Congratulations!! The reason I say that is that there are many Python tools available that can do the above with one or two lines of code, thanks to the many data processing libraries available for Python.\n",
    "\n",
    "---\n",
    "### Repeating the above with SciKit"
   ]
  },
  {
   "cell_type": "code",
   "execution_count": 29,
   "metadata": {},
   "outputs": [
    {
     "name": "stdout",
     "output_type": "stream",
     "text": [
      "\n",
      "Predicted sales spending $175.00 million in TV advertising: $16.69 million\n"
     ]
    }
   ],
   "source": [
    "def train(x,y):\n",
    "    from sklearn.linear_model import LinearRegression\n",
    "    model = LinearRegression().fit(x,y)\n",
    "    return model\n",
    "\n",
    "tv_ad = tv_ad.reshape(-1,1)\n",
    "sales = sales.reshape(-1,1)\n",
    "\n",
    "model = train(tv_ad, sales)\n",
    "x_new = 175.0\n",
    "y_new = model.predict([[x_new]])\n",
    "print(\"\\nPredicted sales spending $%3.2f million in TV advertising: $%2.2f million\" % (x_new,y_new))"
   ]
  },
  {
   "cell_type": "code",
   "execution_count": null,
   "metadata": {},
   "outputs": [],
   "source": []
  }
 ],
 "metadata": {
  "kernelspec": {
   "display_name": "Python 3",
   "language": "python",
   "name": "python3"
  },
  "language_info": {
   "codemirror_mode": {
    "name": "ipython",
    "version": 3
   },
   "file_extension": ".py",
   "mimetype": "text/x-python",
   "name": "python",
   "nbconvert_exporter": "python",
   "pygments_lexer": "ipython3",
   "version": "3.7.6"
  }
 },
 "nbformat": 4,
 "nbformat_minor": 4
}
